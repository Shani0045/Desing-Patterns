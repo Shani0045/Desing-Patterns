{
 "cells": [
  {
   "cell_type": "markdown",
   "id": "7556c871",
   "metadata": {},
   "source": [
    "# Structural Design pattern"
   ]
  },
  {
   "cell_type": "markdown",
   "id": "31ceb6ed",
   "metadata": {},
   "source": [
    "### 1. used to form large object structures between many disparate objects"
   ]
  },
  {
   "cell_type": "markdown",
   "id": "6fa70e5a",
   "metadata": {},
   "source": [
    "### 2. Defines how classes and objects need to be structured"
   ]
  },
  {
   "cell_type": "code",
   "execution_count": 1,
   "id": "e74f2a7d",
   "metadata": {},
   "outputs": [],
   "source": [
    "class EmployeeComponent:\n",
    "    def show_details(self):\n",
    "        pass"
   ]
  },
  {
   "cell_type": "code",
   "execution_count": null,
   "id": "9c59b788",
   "metadata": {},
   "outputs": [],
   "source": [
    "class Employee(EmployeeComponent):\n",
    "    "
   ]
  }
 ],
 "metadata": {
  "kernelspec": {
   "display_name": "Python 3",
   "language": "python",
   "name": "python3"
  },
  "language_info": {
   "codemirror_mode": {
    "name": "ipython",
    "version": 3
   },
   "file_extension": ".py",
   "mimetype": "text/x-python",
   "name": "python",
   "nbconvert_exporter": "python",
   "pygments_lexer": "ipython3",
   "version": "3.6.5"
  }
 },
 "nbformat": 4,
 "nbformat_minor": 5
}
