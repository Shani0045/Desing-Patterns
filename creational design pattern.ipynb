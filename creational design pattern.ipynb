{
 "cells": [
  {
   "cell_type": "markdown",
   "id": "e43fa7f0",
   "metadata": {},
   "source": [
    "## Creational design patterns"
   ]
  },
  {
   "cell_type": "markdown",
   "id": "f83a02a3",
   "metadata": {},
   "source": [
    "### 1. used to construct objects such that they can be decoupled from their implementing system"
   ]
  },
  {
   "cell_type": "markdown",
   "id": "af536e8a",
   "metadata": {},
   "source": [
    "### 2. Provides ways to create objects"
   ]
  },
  {
   "cell_type": "markdown",
   "id": "92ba773f",
   "metadata": {},
   "source": [
    "## 1. Singleton class"
   ]
  },
  {
   "cell_type": "code",
   "execution_count": 8,
   "id": "3e9c2a58",
   "metadata": {},
   "outputs": [],
   "source": [
    "class DBConnection:\n",
    "    \n",
    "    def __new__(cls, *args, **kwargs):\n",
    "        if not hasattr(cls, \"_instance\"):\n",
    "            cls._instance = super().__new__(cls, *args, **kwargs)\n",
    "        return cls._instance\n",
    "            "
   ]
  },
  {
   "cell_type": "code",
   "execution_count": 9,
   "id": "c60d0c67",
   "metadata": {},
   "outputs": [],
   "source": [
    "a = DBConnection()"
   ]
  },
  {
   "cell_type": "code",
   "execution_count": 10,
   "id": "8e45390a",
   "metadata": {},
   "outputs": [],
   "source": [
    "b = DBConnection()"
   ]
  },
  {
   "cell_type": "code",
   "execution_count": 11,
   "id": "a7be80b8",
   "metadata": {},
   "outputs": [
    {
     "data": {
      "text/plain": [
       "True"
      ]
     },
     "execution_count": 11,
     "metadata": {},
     "output_type": "execute_result"
    }
   ],
   "source": [
    "a is b"
   ]
  },
  {
   "cell_type": "code",
   "execution_count": 12,
   "id": "0fe297e0",
   "metadata": {},
   "outputs": [
    {
     "data": {
      "text/plain": [
       "2062383827096"
      ]
     },
     "execution_count": 12,
     "metadata": {},
     "output_type": "execute_result"
    }
   ],
   "source": [
    "id(a)"
   ]
  },
  {
   "cell_type": "code",
   "execution_count": 13,
   "id": "1cc25cc6",
   "metadata": {},
   "outputs": [
    {
     "data": {
      "text/plain": [
       "2062383827096"
      ]
     },
     "execution_count": 13,
     "metadata": {},
     "output_type": "execute_result"
    }
   ],
   "source": [
    "id(b)"
   ]
  },
  {
   "cell_type": "markdown",
   "id": "7e5009f6",
   "metadata": {},
   "source": [
    "### using inheritance"
   ]
  },
  {
   "cell_type": "code",
   "execution_count": 17,
   "id": "bf19e3cd",
   "metadata": {},
   "outputs": [],
   "source": [
    "class DBConn:\n",
    "    _shared = {}\n",
    "    def __init__(self):\n",
    "        self.__dict__ = self._shared\n",
    "        "
   ]
  },
  {
   "cell_type": "code",
   "execution_count": 18,
   "id": "213ec0e4",
   "metadata": {},
   "outputs": [],
   "source": [
    "class Singleton(DBConn):\n",
    "    def __init__(self):\n",
    "        super().__init__()\n",
    "        "
   ]
  },
  {
   "cell_type": "code",
   "execution_count": 19,
   "id": "852c5280",
   "metadata": {},
   "outputs": [],
   "source": [
    "a = Singleton()"
   ]
  },
  {
   "cell_type": "code",
   "execution_count": 20,
   "id": "ebc49c72",
   "metadata": {},
   "outputs": [],
   "source": [
    "b = Singleton()"
   ]
  },
  {
   "cell_type": "code",
   "execution_count": 21,
   "id": "0b40fb97",
   "metadata": {},
   "outputs": [
    {
     "data": {
      "text/plain": [
       "False"
      ]
     },
     "execution_count": 21,
     "metadata": {},
     "output_type": "execute_result"
    }
   ],
   "source": [
    "a is b"
   ]
  },
  {
   "cell_type": "code",
   "execution_count": 22,
   "id": "02ac63b1",
   "metadata": {},
   "outputs": [],
   "source": [
    "a.name = \"shani\""
   ]
  },
  {
   "cell_type": "code",
   "execution_count": 24,
   "id": "2eff5a29",
   "metadata": {},
   "outputs": [
    {
     "data": {
      "text/plain": [
       "'shani'"
      ]
     },
     "execution_count": 24,
     "metadata": {},
     "output_type": "execute_result"
    }
   ],
   "source": [
    "b.name"
   ]
  },
  {
   "cell_type": "code",
   "execution_count": 25,
   "id": "64133e36",
   "metadata": {},
   "outputs": [],
   "source": [
    "b.name = \"ajay\""
   ]
  },
  {
   "cell_type": "code",
   "execution_count": 26,
   "id": "19a6fd17",
   "metadata": {},
   "outputs": [
    {
     "data": {
      "text/plain": [
       "'ajay'"
      ]
     },
     "execution_count": 26,
     "metadata": {},
     "output_type": "execute_result"
    }
   ],
   "source": [
    "a.name"
   ]
  },
  {
   "cell_type": "markdown",
   "id": "42a2fa60",
   "metadata": {},
   "source": [
    "### using decorators"
   ]
  },
  {
   "cell_type": "code",
   "execution_count": 35,
   "id": "f0186899",
   "metadata": {},
   "outputs": [],
   "source": [
    "class SingletonPattern:\n",
    "    \n",
    "    def __init__(self, klass):\n",
    "        self.klass = klass\n",
    "        self._instance = None\n",
    "        \n",
    "    def __call__(self):\n",
    "        if self._instance is None:\n",
    "            self._instance = self.klass()\n",
    "        return self._instance"
   ]
  },
  {
   "cell_type": "code",
   "execution_count": 36,
   "id": "20e5a42f",
   "metadata": {},
   "outputs": [],
   "source": [
    "@SingletonPattern\n",
    "class Logger:\n",
    "    pass"
   ]
  },
  {
   "cell_type": "code",
   "execution_count": 37,
   "id": "ba609d19",
   "metadata": {},
   "outputs": [],
   "source": [
    "a = Logger()"
   ]
  },
  {
   "cell_type": "code",
   "execution_count": 38,
   "id": "e2eb13ef",
   "metadata": {},
   "outputs": [],
   "source": [
    "b = Logger()"
   ]
  },
  {
   "cell_type": "code",
   "execution_count": 39,
   "id": "618029f2",
   "metadata": {},
   "outputs": [],
   "source": [
    "a.name = \"rahul\""
   ]
  },
  {
   "cell_type": "code",
   "execution_count": 40,
   "id": "6861c1f1",
   "metadata": {},
   "outputs": [
    {
     "data": {
      "text/plain": [
       "'rahul'"
      ]
     },
     "execution_count": 40,
     "metadata": {},
     "output_type": "execute_result"
    }
   ],
   "source": [
    "b.name"
   ]
  },
  {
   "cell_type": "code",
   "execution_count": 41,
   "id": "ef00f286",
   "metadata": {},
   "outputs": [
    {
     "data": {
      "text/plain": [
       "'rahul'"
      ]
     },
     "execution_count": 41,
     "metadata": {},
     "output_type": "execute_result"
    }
   ],
   "source": [
    "a.name"
   ]
  },
  {
   "cell_type": "code",
   "execution_count": 42,
   "id": "440783c0",
   "metadata": {},
   "outputs": [],
   "source": [
    "b.name = \"amit\""
   ]
  },
  {
   "cell_type": "code",
   "execution_count": 43,
   "id": "a9d9b354",
   "metadata": {},
   "outputs": [
    {
     "data": {
      "text/plain": [
       "'amit'"
      ]
     },
     "execution_count": 43,
     "metadata": {},
     "output_type": "execute_result"
    }
   ],
   "source": [
    "a.name"
   ]
  },
  {
   "cell_type": "markdown",
   "id": "b2157daa",
   "metadata": {},
   "source": [
    "# 2. Factory Method"
   ]
  },
  {
   "cell_type": "markdown",
   "id": "f1780438",
   "metadata": {},
   "source": [
    "### simple Factory method"
   ]
  },
  {
   "cell_type": "code",
   "execution_count": 44,
   "id": "4e4e66bc",
   "metadata": {},
   "outputs": [],
   "source": [
    "from abc import ABC, abstractmethod"
   ]
  },
  {
   "cell_type": "code",
   "execution_count": 45,
   "id": "54db5975",
   "metadata": {},
   "outputs": [],
   "source": [
    "class Dept(ABC):\n",
    "    \n",
    "    @abstractmethod\n",
    "    def role(self, *args, **kwargs): ..."
   ]
  },
  {
   "cell_type": "code",
   "execution_count": 46,
   "id": "12fffe57",
   "metadata": {},
   "outputs": [],
   "source": [
    "class Hr(Dept):\n",
    "    def role(self):\n",
    "        return \"role is hiring new candidate\""
   ]
  },
  {
   "cell_type": "code",
   "execution_count": 47,
   "id": "38dbc07a",
   "metadata": {},
   "outputs": [],
   "source": [
    "class Developer(Dept):\n",
    "    def role(self):\n",
    "        return \"role is developing site and maintaning them\"\n",
    "    "
   ]
  },
  {
   "cell_type": "code",
   "execution_count": 55,
   "id": "fabfeac1",
   "metadata": {},
   "outputs": [],
   "source": [
    "class DepartmentFactory:\n",
    "    \n",
    "    \"\"\" to create object of deferent department you can use create_dept or create_dept2 method both are same\"\"\"\n",
    "    \n",
    "    def create_dept(self, name):\n",
    "        dept = {\n",
    "            \"hr\" : Hr(),\n",
    "            \"developer\": Developer()\n",
    "        }\n",
    "        \n",
    "        return dept.get(name, \"Department not found\")\n",
    "    \n",
    "    def craate_dept2(self, name):\n",
    "        if name == \"hr\":\n",
    "            hr = Hr()\n",
    "            return hr\n",
    "        elif name == \"developer\":\n",
    "            dev = Developer()\n",
    "            return dev\n",
    "        else:\n",
    "            return \"department not found\""
   ]
  },
  {
   "cell_type": "code",
   "execution_count": 56,
   "id": "127d9a0f",
   "metadata": {},
   "outputs": [],
   "source": [
    "dept = DepartmentFactory()"
   ]
  },
  {
   "cell_type": "code",
   "execution_count": 57,
   "id": "68c03ce5",
   "metadata": {},
   "outputs": [],
   "source": [
    "hr = dept.create_dept(\"hr\")"
   ]
  },
  {
   "cell_type": "code",
   "execution_count": 58,
   "id": "67dc8410",
   "metadata": {},
   "outputs": [
    {
     "data": {
      "text/plain": [
       "<__main__.Hr at 0x1e02fa79be0>"
      ]
     },
     "execution_count": 58,
     "metadata": {},
     "output_type": "execute_result"
    }
   ],
   "source": [
    "hr"
   ]
  },
  {
   "cell_type": "code",
   "execution_count": 59,
   "id": "68aa4ca4",
   "metadata": {},
   "outputs": [
    {
     "data": {
      "text/plain": [
       "'role is hiring new candidate'"
      ]
     },
     "execution_count": 59,
     "metadata": {},
     "output_type": "execute_result"
    }
   ],
   "source": [
    "hr.role()"
   ]
  },
  {
   "cell_type": "markdown",
   "id": "2ac2a04a",
   "metadata": {},
   "source": [
    "### 3. factory method and abstract factory method"
   ]
  },
  {
   "cell_type": "markdown",
   "id": "8641e062",
   "metadata": {},
   "source": [
    "##### step1 for create abstract class"
   ]
  },
  {
   "cell_type": "code",
   "execution_count": 61,
   "id": "6577d4d7",
   "metadata": {},
   "outputs": [],
   "source": [
    "class Shape(ABC):\n",
    "    \n",
    "    def draw(self): ..."
   ]
  },
  {
   "cell_type": "markdown",
   "id": "41aadb1b",
   "metadata": {},
   "source": [
    "##### step2 create concrete class"
   ]
  },
  {
   "cell_type": "code",
   "execution_count": 63,
   "id": "b08cf634",
   "metadata": {},
   "outputs": [],
   "source": [
    "class Circle(Shape):\n",
    "    \n",
    "    def draw(self):\n",
    "        return \"circle shape\""
   ]
  },
  {
   "cell_type": "code",
   "execution_count": 66,
   "id": "cfef6c95",
   "metadata": {},
   "outputs": [],
   "source": [
    "class Triangle(Shape):\n",
    "    \n",
    "    def draw(self):\n",
    "        return \"triange shape\""
   ]
  },
  {
   "cell_type": "code",
   "execution_count": 67,
   "id": "8b702cb4",
   "metadata": {},
   "outputs": [],
   "source": [
    "class RoundedCircle(Shape):\n",
    "    \n",
    "    def draw(self):\n",
    "        return \"circle shape\""
   ]
  },
  {
   "cell_type": "code",
   "execution_count": 68,
   "id": "f09f04f1",
   "metadata": {},
   "outputs": [],
   "source": [
    "class RoundedTriangle(Shape):\n",
    "    \n",
    "    def draw(self):\n",
    "        return \"triange shape\""
   ]
  },
  {
   "cell_type": "markdown",
   "id": "17d14fed",
   "metadata": {},
   "source": [
    "##### step3 create factory abstract class"
   ]
  },
  {
   "cell_type": "code",
   "execution_count": 69,
   "id": "9f478882",
   "metadata": {},
   "outputs": [],
   "source": [
    "class Factory(ABC):\n",
    "    \n",
    "    def shape(self): ..."
   ]
  },
  {
   "cell_type": "markdown",
   "id": "eb429c2b",
   "metadata": {},
   "source": [
    "##### step4 create factory"
   ]
  },
  {
   "cell_type": "code",
   "execution_count": 86,
   "id": "68729bde",
   "metadata": {},
   "outputs": [],
   "source": [
    "class NormalFactory(Factory):\n",
    "    \n",
    "    def shape(self, shape):\n",
    "        d = {\n",
    "            \"circle\": Circle(),\n",
    "            \"triangle\": Triangle()\n",
    "        }\n",
    "        \n",
    "        return d.get(shape, \"shape not found\")"
   ]
  },
  {
   "cell_type": "code",
   "execution_count": 87,
   "id": "38b2a643",
   "metadata": {},
   "outputs": [],
   "source": [
    "class Roundedfactory(Factory):\n",
    "    \n",
    "    def shape(self, shape):\n",
    "        d = {\n",
    "            \"rcircle\": RoundedCircle(),\n",
    "            \"rtriangel\": RoundedTriangle()\n",
    "        }\n",
    "        \n",
    "        return d.get(shape, \"shape not found\")\n",
    "        "
   ]
  },
  {
   "cell_type": "markdown",
   "id": "697eebc6",
   "metadata": {},
   "source": [
    "##### step5 create abstrac factory"
   ]
  },
  {
   "cell_type": "code",
   "execution_count": 88,
   "id": "295be143",
   "metadata": {},
   "outputs": [],
   "source": [
    "class Abstractfactory:\n",
    "    \n",
    "    def shape(self, shape):\n",
    "        \n",
    "        d = {\n",
    "            \"rfactory\": Roundedfactory(),\n",
    "            \"nfactory\": NormalFactory()\n",
    "        }\n",
    "        \n",
    "        return d.get(shape, \"factory not found\")"
   ]
  },
  {
   "cell_type": "code",
   "execution_count": 89,
   "id": "bb08fe25",
   "metadata": {},
   "outputs": [],
   "source": [
    "d = Abstractfactory()"
   ]
  },
  {
   "cell_type": "code",
   "execution_count": 90,
   "id": "9ebfaabe",
   "metadata": {},
   "outputs": [],
   "source": [
    "n_factory = d.shape(\"nfactory\")"
   ]
  },
  {
   "cell_type": "code",
   "execution_count": 91,
   "id": "800562df",
   "metadata": {},
   "outputs": [
    {
     "data": {
      "text/plain": [
       "<__main__.NormalFactory at 0x1e03070a6d8>"
      ]
     },
     "execution_count": 91,
     "metadata": {},
     "output_type": "execute_result"
    }
   ],
   "source": [
    "n_factory"
   ]
  },
  {
   "cell_type": "code",
   "execution_count": 92,
   "id": "b149927f",
   "metadata": {},
   "outputs": [],
   "source": [
    "circle = n_factory.shape(\"circle\")"
   ]
  },
  {
   "cell_type": "code",
   "execution_count": 93,
   "id": "720e0b80",
   "metadata": {},
   "outputs": [
    {
     "data": {
      "text/plain": [
       "'circle shape'"
      ]
     },
     "execution_count": 93,
     "metadata": {},
     "output_type": "execute_result"
    }
   ],
   "source": [
    "circle.draw()"
   ]
  },
  {
   "cell_type": "code",
   "execution_count": 94,
   "id": "cff2f530",
   "metadata": {},
   "outputs": [
    {
     "data": {
      "text/plain": [
       "<__main__.Triangle at 0x1e0300a2a58>"
      ]
     },
     "execution_count": 94,
     "metadata": {},
     "output_type": "execute_result"
    }
   ],
   "source": [
    "triange = n_factory.shape(\"triangle\")\n",
    "triange"
   ]
  },
  {
   "cell_type": "code",
   "execution_count": 95,
   "id": "4ee57366",
   "metadata": {},
   "outputs": [
    {
     "data": {
      "text/plain": [
       "'triange shape'"
      ]
     },
     "execution_count": 95,
     "metadata": {},
     "output_type": "execute_result"
    }
   ],
   "source": [
    "triange.draw()"
   ]
  },
  {
   "cell_type": "markdown",
   "id": "ba5aa8e4",
   "metadata": {},
   "source": [
    "# 3. Prototype desing pattern"
   ]
  },
  {
   "cell_type": "code",
   "execution_count": 97,
   "id": "feb4aa1c",
   "metadata": {},
   "outputs": [],
   "source": [
    "class Student:\n",
    "    \n",
    "    def __init__(self, name, address, age):\n",
    "        self.name = name\n",
    "        self.age = age\n",
    "        self.address = address\n",
    "    \n",
    "    def __str__(self):\n",
    "        return f\"Student({name}, {address}, {age})\""
   ]
  },
  {
   "cell_type": "code",
   "execution_count": 98,
   "id": "66ab3300",
   "metadata": {},
   "outputs": [],
   "source": [
    "import copy \n",
    "\n",
    "class Prototype:\n",
    "    \n",
    "    def clone(self):\n",
    "        return copy.deepcopy(self)"
   ]
  },
  {
   "cell_type": "code",
   "execution_count": 101,
   "id": "b2704b5d",
   "metadata": {},
   "outputs": [
    {
     "name": "stdout",
     "output_type": "stream",
     "text": [
      "Drawing Rectangle with width 10 and height 5\n",
      "Drawing Circle with radius 7\n"
     ]
    }
   ],
   "source": [
    "import copy\n",
    "\n",
    "class Shape:\n",
    "    def clone(self):\n",
    "        return copy.deepcopy(self)\n",
    "\n",
    "    def draw(self):\n",
    "        pass\n",
    "\n",
    "class Rectangle(Shape):\n",
    "    def __init__(self, width, height):\n",
    "        self.width = width\n",
    "        self.height = height\n",
    "\n",
    "    def draw(self):\n",
    "        print(f\"Drawing Rectangle with width {self.width} and height {self.height}\")\n",
    "\n",
    "class Circle(Shape):\n",
    "    def __init__(self, radius):\n",
    "        self.radius = radius\n",
    "\n",
    "    def draw(self):\n",
    "        print(f\"Drawing Circle with radius {self.radius}\")\n",
    "\n",
    "class ShapeCache:\n",
    "    def __init__(self):\n",
    "        self._shapes = {}\n",
    "\n",
    "    def add_shape(self, name, shape):\n",
    "        self._shapes[name] = shape\n",
    "\n",
    "    def get_shape(self, name):\n",
    "        return self._shapes.get(name).clone() if name in self._shapes else None\n",
    "\n",
    "# Create shapes and add them to cache\n",
    "cache = ShapeCache()\n",
    "cache.add_shape(\"Rectangle\", Rectangle(10, 5))\n",
    "cache.add_shape(\"Circle\", Circle(7))\n",
    "\n",
    "# Clone shapes from the cache and draw them\n",
    "cloned_rectangle = cache.get_shape(\"Rectangle\")\n",
    "if cloned_rectangle:\n",
    "    cloned_rectangle.draw()\n",
    "\n",
    "cloned_circle = cache.get_shape(\"Circle\")\n",
    "if cloned_circle:\n",
    "    cloned_circle.draw()\n"
   ]
  },
  {
   "cell_type": "code",
   "execution_count": 103,
   "id": "b4b9ed44",
   "metadata": {},
   "outputs": [],
   "source": [
    "cache.add_shape(\"Rectangle\", Rectangle(5, 5))"
   ]
  },
  {
   "cell_type": "code",
   "execution_count": 105,
   "id": "321840e1",
   "metadata": {},
   "outputs": [],
   "source": [
    "d = cache.get_shape(\"Rectangle\")"
   ]
  },
  {
   "cell_type": "code",
   "execution_count": 106,
   "id": "8a35ca37",
   "metadata": {},
   "outputs": [
    {
     "name": "stdout",
     "output_type": "stream",
     "text": [
      "Drawing Rectangle with width 5 and height 5\n"
     ]
    }
   ],
   "source": [
    "d.draw()"
   ]
  },
  {
   "cell_type": "code",
   "execution_count": null,
   "id": "69001c18",
   "metadata": {},
   "outputs": [],
   "source": []
  }
 ],
 "metadata": {
  "kernelspec": {
   "display_name": "Python 3",
   "language": "python",
   "name": "python3"
  },
  "language_info": {
   "codemirror_mode": {
    "name": "ipython",
    "version": 3
   },
   "file_extension": ".py",
   "mimetype": "text/x-python",
   "name": "python",
   "nbconvert_exporter": "python",
   "pygments_lexer": "ipython3",
   "version": "3.6.5"
  }
 },
 "nbformat": 4,
 "nbformat_minor": 5
}
