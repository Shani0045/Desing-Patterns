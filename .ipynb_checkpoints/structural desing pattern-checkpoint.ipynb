{
 "cells": [
  {
   "cell_type": "markdown",
   "id": "7556c871",
   "metadata": {},
   "source": [
    "# Structural Design pattern"
   ]
  },
  {
   "cell_type": "markdown",
   "id": "31ceb6ed",
   "metadata": {},
   "source": [
    "### 1. used to form large object structures between many disparate objects"
   ]
  },
  {
   "cell_type": "markdown",
   "id": "6fa70e5a",
   "metadata": {},
   "source": [
    "### 2. Defines how classes and objects need to be structured"
   ]
  },
  {
   "cell_type": "markdown",
   "id": "7530e0e5",
   "metadata": {},
   "source": [
    "# Adaptor Design Pattern"
   ]
  },
  {
   "cell_type": "markdown",
   "id": "ae2b76fd",
   "metadata": {},
   "source": [
    "### allow to work with incampatible interface to work togethor"
   ]
  },
  {
   "cell_type": "code",
   "execution_count": null,
   "id": "5e472b57",
   "metadata": {},
   "outputs": [],
   "source": []
  }
 ],
 "metadata": {
  "kernelspec": {
   "display_name": "Python 3",
   "language": "python",
   "name": "python3"
  },
  "language_info": {
   "codemirror_mode": {
    "name": "ipython",
    "version": 3
   },
   "file_extension": ".py",
   "mimetype": "text/x-python",
   "name": "python",
   "nbconvert_exporter": "python",
   "pygments_lexer": "ipython3",
   "version": "3.6.5"
  }
 },
 "nbformat": 4,
 "nbformat_minor": 5
}
