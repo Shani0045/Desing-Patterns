{
 "cells": [
  {
   "cell_type": "markdown",
   "id": "f045dbaf",
   "metadata": {},
   "source": [
    "# Behavioural Design pattern"
   ]
  },
  {
   "cell_type": "markdown",
   "id": "cded6a4d",
   "metadata": {},
   "source": [
    "### 1. used to manage algorithms relationship and responsibilities between objects"
   ]
  },
  {
   "cell_type": "markdown",
   "id": "6f6f2fa4",
   "metadata": {},
   "source": [
    "### 2. used for defining the behaviour (relationship and responsibilities) of object interaction between each others"
   ]
  },
  {
   "cell_type": "markdown",
   "id": "c33b6c4f",
   "metadata": {},
   "source": [
    "### 3. how objects interact with each others"
   ]
  },
  {
   "cell_type": "markdown",
   "id": "3509e960",
   "metadata": {},
   "source": [
    "# Chain Of Responsbilities"
   ]
  },
  {
   "cell_type": "code",
   "execution_count": null,
   "id": "f21c611f",
   "metadata": {},
   "outputs": [],
   "source": [
    "class Handle:\n",
    "    \n",
    "    def __init__(self, successor=None):\n",
    "        self.successor= successor\n",
    "        \n",
    "    def handle(self, request):\n",
    "        if self.successor:\n",
    "            return self.successor.handle(request)\n",
    "        return None\n",
    "    \n",
    "    \n",
    "\n",
    "class AuthHand"
   ]
  }
 ],
 "metadata": {
  "kernelspec": {
   "display_name": "Python 3",
   "language": "python",
   "name": "python3"
  },
  "language_info": {
   "codemirror_mode": {
    "name": "ipython",
    "version": 3
   },
   "file_extension": ".py",
   "mimetype": "text/x-python",
   "name": "python",
   "nbconvert_exporter": "python",
   "pygments_lexer": "ipython3",
   "version": "3.6.5"
  }
 },
 "nbformat": 4,
 "nbformat_minor": 5
}
