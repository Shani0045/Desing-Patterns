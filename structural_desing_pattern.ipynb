{
 "cells": [
  {
   "cell_type": "markdown",
   "id": "7556c871",
   "metadata": {},
   "source": [
    "# Structural Design pattern"
   ]
  },
  {
   "cell_type": "markdown",
   "id": "31ceb6ed",
   "metadata": {},
   "source": [
    "### 1. used to form large object structures between many disparate objects"
   ]
  },
  {
   "cell_type": "markdown",
   "id": "6fa70e5a",
   "metadata": {},
   "source": [
    "### 2. Defines how classes and objects need to be structured"
   ]
  },
  {
   "cell_type": "markdown",
   "id": "78334599",
   "metadata": {},
   "source": [
    "# Adaptor Design Pattern"
   ]
  },
  {
   "cell_type": "markdown",
   "id": "82a13003",
   "metadata": {},
   "source": [
    "### allow to work with incampatible interface to work togethor"
   ]
  },
  {
   "cell_type": "markdown",
   "id": "e9067b9f",
   "metadata": {},
   "source": [
    "The Adapter Pattern (also known as the Wrapper Pattern)"
   ]
  },
  {
   "cell_type": "markdown",
   "id": "518f7dba",
   "metadata": {},
   "source": [
    "1. Converts one interface to another"
   ]
  },
  {
   "cell_type": "markdown",
   "id": "ee017672",
   "metadata": {},
   "source": [
    "2. Compatibility"
   ]
  },
  {
   "cell_type": "code",
   "execution_count": 1,
   "id": "f69372c2",
   "metadata": {},
   "outputs": [
    {
     "name": "stdout",
     "output_type": "stream",
     "text": [
      "Printing: Hello, World!\n"
     ]
    }
   ],
   "source": [
    "# Incompatible class\n",
    "class OldPrinter:\n",
    "    def print_text(self, text):\n",
    "        return f\"Printing: {text}\"\n",
    "\n",
    "# Target Interface\n",
    "class NewPrinterInterface:\n",
    "    def print(self, message):\n",
    "        pass\n",
    "\n",
    "# Adapter (Making OldPrinter compatible with NewPrinterInterface)\n",
    "class PrinterAdapter(NewPrinterInterface):\n",
    "    def __init__(self, old_printer):\n",
    "        self.old_printer = old_printer\n",
    "\n",
    "    def print(self, message):\n",
    "        return self.old_printer.print_text(message)\n",
    "\n",
    "# Client Code\n",
    "old_printer = OldPrinter()\n",
    "adapter = PrinterAdapter(old_printer)\n",
    "print(adapter.print(\"Hello, World!\"))  # Works with the new interface\n"
   ]
  },
  {
   "cell_type": "markdown",
   "id": "0ee0a670",
   "metadata": {},
   "source": [
    "# Decorator design pattern"
   ]
  },
  {
   "cell_type": "markdown",
   "id": "0dd023a4",
   "metadata": {},
   "source": [
    "1. Adds new behavior to an object dynamically"
   ]
  },
  {
   "cell_type": "markdown",
   "id": "144e348f",
   "metadata": {},
   "source": [
    "2. Extension"
   ]
  },
  {
   "cell_type": "code",
   "execution_count": 2,
   "id": "ab7066ae",
   "metadata": {},
   "outputs": [
    {
     "name": "stdout",
     "output_type": "stream",
     "text": [
      "Total cost: $8\n"
     ]
    }
   ],
   "source": [
    "from functools import wraps\n",
    "\n",
    "# Component\n",
    "class Coffee:\n",
    "    def cost(self):\n",
    "        return 5\n",
    "\n",
    "# Decorator\n",
    "def milk_decorator(coffee):\n",
    "    @wraps(coffee)\n",
    "    def wrapper():\n",
    "        return coffee() + 2  # Adding milk costs $2\n",
    "    return wrapper\n",
    "\n",
    "def sugar_decorator(coffee):\n",
    "    @wraps(coffee)\n",
    "    def wrapper():\n",
    "        return coffee() + 1  # Adding sugar costs $1\n",
    "    return wrapper\n",
    "\n",
    "# Using the decorators dynamically\n",
    "@milk_decorator\n",
    "@sugar_decorator\n",
    "def order():\n",
    "    return Coffee().cost()\n",
    "\n",
    "print(f\"Total cost: ${order()}\")  # Output: Total cost: $8\n"
   ]
  },
  {
   "cell_type": "markdown",
   "id": "1888237e",
   "metadata": {},
   "source": [
    "# Facade Design Pattern"
   ]
  },
  {
   "cell_type": "markdown",
   "id": "a38a4dae",
   "metadata": {},
   "source": [
    "The Facade Pattern is a structural design pattern that provides a simplified interface to a complex system of classes, libraries, or APIs. It helps reduce dependencies between clients and subsystems by offering a single entry point."
   ]
  },
  {
   "cell_type": "code",
   "execution_count": 3,
   "id": "c4db5d7a",
   "metadata": {},
   "outputs": [
    {
     "name": "stdout",
     "output_type": "stream",
     "text": [
      "CPU started, Memory loaded, Hard drive read\n"
     ]
    }
   ],
   "source": [
    "# Subsystem classes (complex system)\n",
    "class CPU:\n",
    "    def start(self):\n",
    "        return \"CPU started\"\n",
    "\n",
    "class Memory:\n",
    "    def load(self):\n",
    "        return \"Memory loaded\"\n",
    "\n",
    "class HardDrive:\n",
    "    def read(self):\n",
    "        return \"Hard drive read\"\n",
    "\n",
    "# Facade class\n",
    "class ComputerFacade:\n",
    "    def __init__(self):\n",
    "        self.cpu = CPU()\n",
    "        self.memory = Memory()\n",
    "        self.hard_drive = HardDrive()\n",
    "\n",
    "    def start_computer(self):\n",
    "        return f\"{self.cpu.start()}, {self.memory.load()}, {self.hard_drive.read()}\"\n",
    "\n",
    "# Client code\n",
    "computer = ComputerFacade()\n",
    "print(computer.start_computer())  # Output: CPU started, Memory loaded, Hard drive read\n"
   ]
  },
  {
   "cell_type": "markdown",
   "id": "14057758",
   "metadata": {},
   "source": [
    "# Proxy Design pattern"
   ]
  },
  {
   "cell_type": "markdown",
   "id": "b5688f58",
   "metadata": {},
   "source": [
    "The Proxy Pattern is a structural design pattern that provides a surrogate or placeholder for another object. It controls access to the original object, allowing additional functionality like lazy initialization, access control, logging, and security."
   ]
  },
  {
   "cell_type": "markdown",
   "id": "1dbd6e81",
   "metadata": {},
   "source": [
    "1. Controls access to an object"
   ]
  },
  {
   "cell_type": "markdown",
   "id": "04f112ee",
   "metadata": {},
   "source": [
    "2. Control"
   ]
  },
  {
   "cell_type": "code",
   "execution_count": 4,
   "id": "01b9264f",
   "metadata": {},
   "outputs": [
    {
     "name": "stdout",
     "output_type": "stream",
     "text": [
      "Connecting to google.com\n",
      "Access to facebook.com is blocked!\n"
     ]
    }
   ],
   "source": [
    "from abc import ABC, abstractmethod\n",
    "\n",
    "# Subject (Interface)\n",
    "class Internet(ABC):\n",
    "    @abstractmethod\n",
    "    def connect_to(self, website):\n",
    "        pass\n",
    "\n",
    "# Real Subject\n",
    "class RealInternet(Internet):\n",
    "    def connect_to(self, website):\n",
    "        return f\"Connecting to {website}\"\n",
    "\n",
    "# Proxy (Restricting access to certain websites)\n",
    "class ProxyInternet(Internet):\n",
    "    blocked_sites = {\"facebook.com\", \"youtube.com\"}\n",
    "\n",
    "    def __init__(self):\n",
    "        self.real_internet = RealInternet()\n",
    "\n",
    "    def connect_to(self, website):\n",
    "        if website in self.blocked_sites:\n",
    "            return f\"Access to {website} is blocked!\"\n",
    "        return self.real_internet.connect_to(website)\n",
    "\n",
    "# Client Code\n",
    "internet = ProxyInternet()\n",
    "print(internet.connect_to(\"google.com\"))  # Connecting to google.com\n",
    "print(internet.connect_to(\"facebook.com\"))  # Access to facebook.com is blocked!\n"
   ]
  },
  {
   "cell_type": "markdown",
   "id": "ad5eb514",
   "metadata": {},
   "source": [
    "Feature\tAdapter 🛠️\tDecorator 🎨\tProxy 🕵️\n",
    "Purpose\tConverts one interface to another\tAdds new behavior to an object dynamically\tControls access to an object"
   ]
  },
  {
   "cell_type": "markdown",
   "id": "9ab9e2ed",
   "metadata": {},
   "source": [
    "# Composite Design Pattern"
   ]
  },
  {
   "cell_type": "markdown",
   "id": "a85b3bca",
   "metadata": {},
   "source": [
    "work with heighrarcy structure"
   ]
  },
  {
   "cell_type": "code",
   "execution_count": 7,
   "id": "264a7921",
   "metadata": {},
   "outputs": [
    {
     "name": "stdout",
     "output_type": "stream",
     "text": [
      "Folder: Root\n",
      "  Folder: Documents\n",
      "  File: Resume.pdf\n",
      "  Folder: Pictures\n",
      "  File: Photo.jpg\n"
     ]
    }
   ],
   "source": [
    "from abc import ABC, abstractmethod\n",
    "\n",
    "# Component (Abstract Class)\n",
    "class FileSystemComponent(ABC):\n",
    "    @abstractmethod\n",
    "    def show_details(self):\n",
    "        pass\n",
    "\n",
    "# Leaf (File)\n",
    "class File(FileSystemComponent):\n",
    "    def __init__(self, name):\n",
    "        self.name = name\n",
    "\n",
    "    def show_details(self):\n",
    "        return f\"File: {self.name}\"\n",
    "\n",
    "# Composite (Folder)\n",
    "class Folder(FileSystemComponent):\n",
    "    def __init__(self, name):\n",
    "        self.name = name\n",
    "        self.children = []\n",
    "\n",
    "    def add(self, component):\n",
    "        self.children.append(component)\n",
    "\n",
    "    def show_details(self):\n",
    "        details = f\"Folder: {self.name}\"\n",
    "        for child in self.children:\n",
    "            details += f\"\\n  {child.show_details()}\"\n",
    "        return details\n",
    "\n",
    "# Client Code\n",
    "root = Folder(\"Root\")\n",
    "document_folder = Folder(\"Documents\")\n",
    "picture_folder = Folder(\"Pictures\")\n",
    "\n",
    "resume_file = File(\"Resume.pdf\")\n",
    "photo_file = File(\"Photo.jpg\")\n",
    "\n",
    "document_folder.add(resume_file)\n",
    "picture_folder.add(photo_file)\n",
    "root.add(document_folder)\n",
    "root.add(picture_folder)\n",
    "\n",
    "print(root.show_details())\n"
   ]
  },
  {
   "cell_type": "markdown",
   "id": "0c2f71d4",
   "metadata": {},
   "source": [
    "# Flyweight Design pattern"
   ]
  },
  {
   "cell_type": "markdown",
   "id": "19637205",
   "metadata": {},
   "source": [
    "The Flyweight Pattern is a structural design pattern used to reduce memory usage by sharing common object data among multiple instances. It is useful when working with a large number of similar objects that contain shared immutable state."
   ]
  },
  {
   "cell_type": "code",
   "execution_count": null,
   "id": "1f444a85",
   "metadata": {},
   "outputs": [],
   "source": []
  }
 ],
 "metadata": {
  "kernelspec": {
   "display_name": "Python 3",
   "language": "python",
   "name": "python3"
  },
  "language_info": {
   "codemirror_mode": {
    "name": "ipython",
    "version": 3
   },
   "file_extension": ".py",
   "mimetype": "text/x-python",
   "name": "python",
   "nbconvert_exporter": "python",
   "pygments_lexer": "ipython3",
   "version": "3.6.5"
  }
 },
 "nbformat": 4,
 "nbformat_minor": 5
}
