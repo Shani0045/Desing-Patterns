{
 "cells": [
  {
   "cell_type": "markdown",
   "id": "f045dbaf",
   "metadata": {},
   "source": [
    "# Behavioural Design pattern"
   ]
  },
  {
   "cell_type": "markdown",
   "id": "cded6a4d",
   "metadata": {},
   "source": [
    "### 1. used to manage algorithms relationship and responsibilities between objects"
   ]
  },
  {
   "cell_type": "markdown",
   "id": "6f6f2fa4",
   "metadata": {},
   "source": [
    "### 2. used for defining the behaviour (relationship and responsibilities) of object interaction between each others"
   ]
  },
  {
   "cell_type": "markdown",
   "id": "c33b6c4f",
   "metadata": {},
   "source": [
    "### 3. how objects interact with each others"
   ]
  },
  {
   "cell_type": "markdown",
   "id": "be635b7b",
   "metadata": {},
   "source": [
    "# Chain Of Responsbilities"
   ]
  },
  {
   "cell_type": "code",
   "execution_count": 2,
   "id": "5eed740f",
   "metadata": {},
   "outputs": [
    {
     "data": {
      "text/plain": [
       "'Auth Handler processed it'"
      ]
     },
     "execution_count": 2,
     "metadata": {},
     "output_type": "execute_result"
    }
   ],
   "source": [
    "class Handler:\n",
    "    \n",
    "    def __init__(self, successor=None):\n",
    "        self.successor= successor\n",
    "        \n",
    "    def handle(self, request):\n",
    "        if self.successor:\n",
    "            return self.successor.handle(request)\n",
    "        return None\n",
    "    \n",
    "    \n",
    "\n",
    "class AuthHandler(Handler):\n",
    "    def handle(self, request):\n",
    "        if request == \"auth\":\n",
    "            return \"Auth Handler processed it\"    \n",
    "        return super().handle(request)\n",
    "    \n",
    "\n",
    "\n",
    "class DataHandler(Handler):\n",
    "    def handle(self, request):\n",
    "        if request == \"data\":\n",
    "            return \"DataHandler proccessed it\"\n",
    "        return super().handle(request)\n",
    "    \n",
    "    \n",
    "    \n",
    "#create a chain\n",
    "chain = AuthHandler(DataHandler())\n",
    "chain.handle(\"data\")\n",
    "chain.handle(\"auth\")\n",
    "        "
   ]
  },
  {
   "cell_type": "markdown",
   "id": "e3fa86de",
   "metadata": {},
   "source": [
    "# Strategy Design Pattern"
   ]
  },
  {
   "cell_type": "code",
   "execution_count": 3,
   "id": "c541fe8a",
   "metadata": {},
   "outputs": [
    {
     "name": "stdout",
     "output_type": "stream",
     "text": [
      "Paid ₹1000 using Credit Card.\n",
      "Paid ₹500 using PayPal.\n"
     ]
    }
   ],
   "source": [
    "from abc import ABC, abstractmethod\n",
    "\n",
    "# Strategy Interface\n",
    "class PaymentStrategy(ABC):\n",
    "    @abstractmethod\n",
    "    def pay(self, amount: float):\n",
    "        pass\n",
    "\n",
    "# Concrete Strategies\n",
    "class CreditCardPayment(PaymentStrategy):\n",
    "    def pay(self, amount: float):\n",
    "        print(f\"Paid ₹{amount} using Credit Card.\")\n",
    "\n",
    "class PayPalPayment(PaymentStrategy):\n",
    "    def pay(self, amount: float):\n",
    "        print(f\"Paid ₹{amount} using PayPal.\")\n",
    "\n",
    "# Context\n",
    "class ShoppingCart:\n",
    "    def __init__(self, payment_strategy: PaymentStrategy):\n",
    "        self.payment_strategy = payment_strategy\n",
    "\n",
    "    def checkout(self, amount: float):\n",
    "        self.payment_strategy.pay(amount)\n",
    "\n",
    "# Usage\n",
    "cart = ShoppingCart(CreditCardPayment())\n",
    "cart.checkout(1000)\n",
    "\n",
    "cart = ShoppingCart(PayPalPayment())\n",
    "cart.checkout(500)\n"
   ]
  },
  {
   "cell_type": "code",
   "execution_count": 6,
   "id": "0fa4ba9f",
   "metadata": {},
   "outputs": [
    {
     "name": "stdout",
     "output_type": "stream",
     "text": [
      "find data by id\n",
      "search by name\n"
     ]
    }
   ],
   "source": [
    "from abc import ABC, abstractmethod\n",
    "\n",
    "# Strategy Interface\n",
    "class SearchStrategy(ABC):\n",
    "    @abstractmethod\n",
    "    def search(self, data):\n",
    "        pass\n",
    "\n",
    "# Concrete Strategies\n",
    "class SearchById(SearchStrategy):\n",
    "    def search(self, id: int):\n",
    "        print(\"find data by id\")\n",
    "\n",
    "class SearchByName(SearchStrategy):\n",
    "    def search(self, amount: float):\n",
    "        print(f\"search by name\")\n",
    "\n",
    "# Context\n",
    "class Search:\n",
    "    def __init__(self, search_strategy: SearchStrategy):\n",
    "        self.search_strategy = search_strategy\n",
    "\n",
    "    def search(self, data):\n",
    "        self.search_strategy.search(data)\n",
    "\n",
    "# Usage\n",
    "\n",
    "search = Search(SearchById())\n",
    "search.search(20)\n",
    "\n",
    "search = Search(SearchByName())\n",
    "search.search(\"shani\")"
   ]
  },
  {
   "cell_type": "markdown",
   "id": "c1a07904",
   "metadata": {},
   "source": [
    "# Observer Design Pattern"
   ]
  },
  {
   "cell_type": "code",
   "execution_count": 7,
   "id": "a589aa3c",
   "metadata": {},
   "outputs": [
    {
     "name": "stdout",
     "output_type": "stream",
     "text": [
      "Alice received: New video uploaded!\n",
      "Bob received: New video uploaded!\n",
      "Alice received: Second video uploaded!\n"
     ]
    }
   ],
   "source": [
    "from abc import ABC, abstractmethod\n",
    "\n",
    "# Observer Interface\n",
    "class Observer(ABC):\n",
    "    @abstractmethod\n",
    "    def update(self, message: str):\n",
    "        pass\n",
    "\n",
    "# Concrete Observer\n",
    "class Subscriber(Observer):\n",
    "    def __init__(self, name):\n",
    "        self.name = name\n",
    "\n",
    "    def update(self, message: str):\n",
    "        print(f\"{self.name} received: {message}\")\n",
    "\n",
    "# Subject\n",
    "class YouTubeChannel:\n",
    "    def __init__(self):\n",
    "        self.subscribers = []\n",
    "\n",
    "    def subscribe(self, observer: Observer):\n",
    "        self.subscribers.append(observer)\n",
    "\n",
    "    def unsubscribe(self, observer: Observer):\n",
    "        self.subscribers.remove(observer)\n",
    "\n",
    "    def notify_all(self, message: str):\n",
    "        for observer in self.subscribers:\n",
    "            observer.update(message)\n",
    "\n",
    "# Usage\n",
    "channel = YouTubeChannel()\n",
    "\n",
    "alice = Subscriber(\"Alice\")\n",
    "bob = Subscriber(\"Bob\")\n",
    "\n",
    "channel.subscribe(alice)\n",
    "channel.subscribe(bob)\n",
    "\n",
    "channel.notify_all(\"New video uploaded!\")\n",
    "\n",
    "channel.unsubscribe(bob)\n",
    "channel.notify_all(\"Second video uploaded!\")\n"
   ]
  },
  {
   "cell_type": "markdown",
   "id": "d45b6716",
   "metadata": {},
   "source": [
    "# State Desing pattern"
   ]
  },
  {
   "cell_type": "code",
   "execution_count": 9,
   "id": "57f37437",
   "metadata": {},
   "outputs": [
    {
     "name": "stdout",
     "output_type": "stream",
     "text": [
      "Red Light - Stop!\n",
      "Green Light - Go!\n",
      "Yellow Light - Slow Down!\n",
      "Red Light - Stop!\n",
      "Green Light - Go!\n",
      "Yellow Light - Slow Down!\n"
     ]
    }
   ],
   "source": [
    "from abc import ABC, abstractmethod\n",
    "\n",
    "# State Interface\n",
    "class TrafficLightState(ABC):\n",
    "    @abstractmethod\n",
    "    def handle(self, context):\n",
    "        pass\n",
    "\n",
    "# Concrete States\n",
    "class GreenState(TrafficLightState):\n",
    "    def handle(self, context):\n",
    "        print(\"Green Light - Go!\")\n",
    "        context.set_state(YellowState())\n",
    "\n",
    "class YellowState(TrafficLightState):\n",
    "    def handle(self, context):\n",
    "        print(\"Yellow Light - Slow Down!\")\n",
    "        context.set_state(RedState())\n",
    "\n",
    "class RedState(TrafficLightState):\n",
    "    def handle(self, context):\n",
    "        print(\"Red Light - Stop!\")\n",
    "        context.set_state(GreenState())\n",
    "\n",
    "# Context\n",
    "class TrafficLight:\n",
    "    def __init__(self):\n",
    "        self.state = RedState()  # initial state\n",
    "\n",
    "    def set_state(self, state: TrafficLightState):\n",
    "        self.state = state\n",
    "\n",
    "    def request(self):\n",
    "        self.state.handle(self)\n",
    "\n",
    "# Usage\n",
    "light = TrafficLight()\n",
    "for _ in range(6):\n",
    "    light.request()\n"
   ]
  },
  {
   "cell_type": "markdown",
   "id": "212eeeb5",
   "metadata": {},
   "source": [
    "# Template Desing Pattern"
   ]
  },
  {
   "cell_type": "code",
   "execution_count": 1,
   "id": "081699c5",
   "metadata": {},
   "outputs": [
    {
     "name": "stdout",
     "output_type": "stream",
     "text": [
      "Making tea:\n",
      "Steeping the tea\n",
      "Adding lemon\n",
      "\n",
      "Making coffee:\n",
      "Dripping coffee through filter\n",
      "Adding sugar and milk\n"
     ]
    }
   ],
   "source": [
    "from abc import ABC, abstractmethod\n",
    "\n",
    "# Abstract Class\n",
    "class Beverage(ABC):\n",
    "    def prepare(self):\n",
    "        self.brew()\n",
    "        self.add_condiments()\n",
    "\n",
    "\n",
    "    @abstractmethod\n",
    "    def brew(self):\n",
    "        pass\n",
    "\n",
    "    @abstractmethod\n",
    "    def add_condiments(self):\n",
    "        pass\n",
    "\n",
    "# Concrete Class 1\n",
    "class Tea(Beverage):\n",
    "    def brew(self):\n",
    "        print(\"Steeping the tea\")\n",
    "\n",
    "    def add_condiments(self):\n",
    "        print(\"Adding lemon\")\n",
    "\n",
    "# Concrete Class 2\n",
    "class Coffee(Beverage):\n",
    "    def brew(self):\n",
    "        print(\"Dripping coffee through filter\")\n",
    "\n",
    "    def add_condiments(self):\n",
    "        print(\"Adding sugar and milk\")\n",
    "\n",
    "# Usage\n",
    "tea = Tea()\n",
    "coffee = Coffee()\n",
    "\n",
    "print(\"Making tea:\")\n",
    "tea.prepare()\n",
    "\n",
    "print(\"\\nMaking coffee:\")\n",
    "coffee.prepare()\n"
   ]
  },
  {
   "cell_type": "markdown",
   "id": "d2724e00",
   "metadata": {},
   "source": [
    "# Iterator Desing pattern "
   ]
  },
  {
   "cell_type": "code",
   "execution_count": 11,
   "id": "413fcb02",
   "metadata": {},
   "outputs": [
    {
     "name": "stdout",
     "output_type": "stream",
     "text": [
      "Alice\n",
      "Bob\n",
      "Charlie\n"
     ]
    }
   ],
   "source": [
    "# Iterator Interface\n",
    "class Iterator:\n",
    "    def __init__(self, collection):\n",
    "        self._collection = collection\n",
    "        self._index = 0\n",
    "\n",
    "    def has_next(self):\n",
    "        return self._index < len(self._collection)\n",
    "\n",
    "    def next(self):\n",
    "        if self.has_next():\n",
    "            item = self._collection[self._index]\n",
    "            self._index += 1\n",
    "            return item\n",
    "        raise StopIteration\n",
    "\n",
    "# Aggregate\n",
    "class NameCollection:\n",
    "    def __init__(self):\n",
    "        self._names = []\n",
    "\n",
    "    def add_name(self, name):\n",
    "        self._names.append(name)\n",
    "\n",
    "    def get_iterator(self):\n",
    "        return Iterator(self._names)\n",
    "\n",
    "# Usage\n",
    "names = NameCollection()\n",
    "names.add_name(\"Alice\")\n",
    "names.add_name(\"Bob\")\n",
    "names.add_name(\"Charlie\")\n",
    "\n",
    "iterator = names.get_iterator()\n",
    "while iterator.has_next():\n",
    "    print(iterator.next())\n"
   ]
  },
  {
   "cell_type": "markdown",
   "id": "915e9f74",
   "metadata": {},
   "source": [
    "# Mediator Desing pattern"
   ]
  },
  {
   "cell_type": "code",
   "execution_count": 12,
   "id": "0a99af0a",
   "metadata": {},
   "outputs": [
    {
     "name": "stdout",
     "output_type": "stream",
     "text": [
      "[John] says: Hi there!\n",
      "[Jane] says: Hello John!\n"
     ]
    }
   ],
   "source": [
    "from abc import ABC, abstractmethod\n",
    "\n",
    "# Mediator Interface\n",
    "class ChatRoomMediator(ABC):\n",
    "    @abstractmethod\n",
    "    def show_message(self, user, message):\n",
    "        pass\n",
    "\n",
    "# Concrete Mediator\n",
    "class ChatRoom(ChatRoomMediator):\n",
    "    def show_message(self, user, message):\n",
    "        print(f\"[{user.name}] says: {message}\")\n",
    "\n",
    "# Colleague\n",
    "class User:\n",
    "    def __init__(self, name, chatroom: ChatRoomMediator):\n",
    "        self.name = name\n",
    "        self.chatroom = chatroom\n",
    "\n",
    "    def send(self, message):\n",
    "        self.chatroom.show_message(self, message)\n",
    "\n",
    "# Usage\n",
    "chatroom = ChatRoom()\n",
    "\n",
    "john = User(\"John\", chatroom)\n",
    "jane = User(\"Jane\", chatroom)\n",
    "\n",
    "john.send(\"Hi there!\")\n",
    "jane.send(\"Hello John!\")\n"
   ]
  },
  {
   "cell_type": "markdown",
   "id": "4549a739",
   "metadata": {},
   "source": [
    "# Command Desing Pattern"
   ]
  },
  {
   "cell_type": "code",
   "execution_count": 13,
   "id": "c767fd38",
   "metadata": {},
   "outputs": [
    {
     "name": "stdout",
     "output_type": "stream",
     "text": [
      "Light is ON\n",
      "Light is OFF\n"
     ]
    }
   ],
   "source": [
    "# Command Interface\n",
    "class Command:\n",
    "    def execute(self):\n",
    "        pass\n",
    "\n",
    "# Receiver\n",
    "class Light:\n",
    "    def on(self):\n",
    "        print(\"Light is ON\")\n",
    "\n",
    "    def off(self):\n",
    "        print(\"Light is OFF\")\n",
    "\n",
    "# Concrete Commands\n",
    "class LightOnCommand(Command):\n",
    "    def __init__(self, light):\n",
    "        self.light = light\n",
    "\n",
    "    def execute(self):\n",
    "        self.light.on()\n",
    "\n",
    "class LightOffCommand(Command):\n",
    "    def __init__(self, light):\n",
    "        self.light = light\n",
    "\n",
    "    def execute(self):\n",
    "        self.light.off()\n",
    "\n",
    "# Invoker\n",
    "class RemoteControl:\n",
    "    def __init__(self):\n",
    "        self.command = None\n",
    "\n",
    "    def set_command(self, command):\n",
    "        self.command = command\n",
    "\n",
    "    def press_button(self):\n",
    "        self.command.execute()\n",
    "\n",
    "# Client\n",
    "light = Light()\n",
    "on_command = LightOnCommand(light)\n",
    "off_command = LightOffCommand(light)\n",
    "\n",
    "remote = RemoteControl()\n",
    "remote.set_command(on_command)\n",
    "remote.press_button()  # Output: Light is ON\n",
    "\n",
    "remote.set_command(off_command)\n",
    "remote.press_button()  # Output: Light is OFF\n"
   ]
  },
  {
   "cell_type": "code",
   "execution_count": 15,
   "id": "45449023",
   "metadata": {},
   "outputs": [
    {
     "name": "stdout",
     "output_type": "stream",
     "text": [
      "On branch master\n",
      "Changes not staged for commit:\n",
      "  (use \"git add <file>...\" to update what will be committed)\n",
      "  (use \"git restore <file>...\" to discard changes in working directory)\n",
      "\tmodified:   behavioral_desing_pattern.ipynb\n",
      "\n",
      "Untracked files:\n",
      "  (use \"git add <file>...\" to include in what will be committed)\n",
      "\t.ipynb_checkpoints/behavioral_desing_pattern-checkpoint.ipynb\n",
      "\n",
      "no changes added to commit (use \"git add\" and/or \"git commit -a\")\n"
     ]
    }
   ],
   "source": [
    "!git status"
   ]
  },
  {
   "cell_type": "code",
   "execution_count": 16,
   "id": "fb7c1436",
   "metadata": {},
   "outputs": [
    {
     "name": "stderr",
     "output_type": "stream",
     "text": [
      "warning: LF will be replaced by CRLF in behavioral_desing_pattern.ipynb.\n",
      "The file will have its original line endings in your working directory\n",
      "warning: LF will be replaced by CRLF in .ipynb_checkpoints/behavioral_desing_pattern-checkpoint.ipynb.\n",
      "The file will have its original line endings in your working directory\n"
     ]
    }
   ],
   "source": [
    "!git add ."
   ]
  },
  {
   "cell_type": "code",
   "execution_count": 17,
   "id": "c6c2aeec",
   "metadata": {},
   "outputs": [
    {
     "name": "stdout",
     "output_type": "stream",
     "text": [
      "On branch master\n",
      "Changes to be committed:\n",
      "  (use \"git restore --staged <file>...\" to unstage)\n",
      "\tnew file:   .ipynb_checkpoints/behavioral_desing_pattern-checkpoint.ipynb\n",
      "\tmodified:   behavioral_desing_pattern.ipynb\n",
      "\n"
     ]
    }
   ],
   "source": [
    "!git status"
   ]
  },
  {
   "cell_type": "markdown",
   "id": "144b5792",
   "metadata": {},
   "source": [
    "# Momento design pattern"
   ]
  },
  {
   "cell_type": "code",
   "execution_count": null,
   "id": "f82053ce",
   "metadata": {},
   "outputs": [],
   "source": []
  }
 ],
 "metadata": {
  "kernelspec": {
   "display_name": "Python 3",
   "language": "python",
   "name": "python3"
  },
  "language_info": {
   "codemirror_mode": {
    "name": "ipython",
    "version": 3
   },
   "file_extension": ".py",
   "mimetype": "text/x-python",
   "name": "python",
   "nbconvert_exporter": "python",
   "pygments_lexer": "ipython3",
   "version": "3.6.5"
  }
 },
 "nbformat": 4,
 "nbformat_minor": 5
}
